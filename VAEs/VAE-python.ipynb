{
 "cells": [
  {
   "cell_type": "code",
   "execution_count": 1,
   "metadata": {
    "collapsed": true
   },
   "outputs": [],
   "source": [
    "import torch\n",
    "import torch.nn as nn\n",
    "import torch.nn.functional as F\n",
    "import torchvision\n",
    "import torchvision.transforms as transforms\n",
    "import torchvision.datasets as datasets\n",
    "\n",
    "import matplotlib.pyplot as plt\n",
    "%matplotlib inline"
   ]
  },
  {
   "cell_type": "code",
   "execution_count": 2,
   "metadata": {
    "collapsed": true
   },
   "outputs": [],
   "source": [
    "device = torch.device(\"cuda\" if torch.cuda.is_available() else \"cpu\")"
   ]
  },
  {
   "cell_type": "markdown",
   "metadata": {},
   "source": [
    "Preparing data"
   ]
  },
  {
   "cell_type": "code",
   "execution_count": 3,
   "metadata": {
    "collapsed": true
   },
   "outputs": [],
   "source": [
    "mnist_dir = \"/Users/fineday/Github/data/\""
   ]
  },
  {
   "cell_type": "code",
   "execution_count": 4,
   "metadata": {
    "collapsed": true
   },
   "outputs": [],
   "source": [
    "def getDataLoaders(batchsize):\n",
    "    trainData = datasets.MNIST(root=mnist_dir,\n",
    "                               train=True,\n",
    "                               transform=transforms.ToTensor(),\n",
    "                               download=True)\n",
    "    testData = datasets.MNIST(root=mnist_dir,\n",
    "                              train=False,\n",
    "                              transform=transforms.ToTensor())\n",
    "    trainLoader = torch.utils.data.DataLoader(dataset=trainData,\n",
    "                                              batch_size=batchsize,\n",
    "                                              shuffle=True)\n",
    "    testLoader = torch.utils.data.DataLoader(dataset=testData,\n",
    "                                             batch_size=batchsize,\n",
    "                                             shuffle=False)\n",
    "    return trainLoader, testLoader"
   ]
  },
  {
   "cell_type": "markdown",
   "metadata": {},
   "source": [
    "Defining VAE and loss function"
   ]
  },
  {
   "cell_type": "code",
   "execution_count": 10,
   "metadata": {
    "collapsed": true
   },
   "outputs": [],
   "source": [
    "class VAE(nn.Module):\n",
    "    def __init__(self):\n",
    "        super(VAE, self).__init__()\n",
    "        self.fc1 = nn.Linear(784, 400)\n",
    "        self.f_μ = nn.Linear(400, 20)\n",
    "        self.f_logσ = nn.Linear(400, 20)\n",
    "        self.fc3 = nn.Linear(20, 400)\n",
    "        self.fc4 = nn.Linear(400, 784)\n",
    "\n",
    "    def encoder(self, x):\n",
    "        h = F.relu(self.fc1(x))\n",
    "        return self.f_μ(h), self.f_logσ(h)\n",
    "\n",
    "    def decoder(self, z):\n",
    "        h = F.relu(self.fc3(z))\n",
    "        return F.logsigmoid(self.fc4(h))\n",
    "\n",
    "    def reparameterize(self, μ, logσ):\n",
    "        σ = torch.exp(logσ)\n",
    "        ϵ = torch.randn_like(σ)\n",
    "        return μ + σ * ϵ\n",
    "\n",
    "    def forward(self, x):\n",
    "        μ, logσ = self.encoder(x)\n",
    "        z = self.reparameterize(μ, logσ)\n",
    "        return self.decoder(z), μ, logσ\n",
    "\n",
    "\n",
    "def lossF(logit_x̂, x, μ, logσ):\n",
    "    term1 = F.binary_cross_entropy_with_logits(logit_x̂, x, reduction='sum')\n",
    "    term2 = -0.5 * torch.sum(1 + 2*logσ - μ.pow(2) - (2*logσ).exp())\n",
    "    return term1 + term2"
   ]
  },
  {
   "cell_type": "code",
   "execution_count": 62,
   "metadata": {
    "collapsed": true
   },
   "outputs": [],
   "source": [
    "def train(model, trainLoader, optimizer, epoch):\n",
    "    model.train()\n",
    "    epochLoss = 0\n",
    "    for x, _ in trainLoader:\n",
    "        x = x.to(device).view(-1, 784)\n",
    "        optimizer.zero_grad()\n",
    "        logit_x̂, μ, logσ = model(x)\n",
    "        loss = lossF(logit_x̂, x, μ, logσ)\n",
    "        loss.backward()\n",
    "        epochLoss += loss.item()\n",
    "        optimizer.step()\n",
    "    print(\"Epoch {}\\t Training Loss {}\".format(epoch, epochLoss/len(trainLoader.dataset)))\n",
    "\n",
    "def test(model, testLoader, epoch):\n",
    "    model.eval()\n",
    "    epochLoss = 0\n",
    "    with torch.no_grad():\n",
    "        for x, _ in testLoader:\n",
    "            x = x.to(device).view(-1, 784)\n",
    "            logit_x̂, μ, logσ = model(x)\n",
    "            loss = lossF(logit_x̂, x, μ, logσ)\n",
    "            epochLoss += loss.item()\n",
    "    print(\"Epoch {}\\t Test Loss {}\".format(epoch, epochLoss/len(testLoader.dataset)))"
   ]
  },
  {
   "cell_type": "code",
   "execution_count": null,
   "metadata": {},
   "outputs": [],
   "source": []
  },
  {
   "cell_type": "markdown",
   "metadata": {},
   "source": [
    "Loading and visualizing data"
   ]
  },
  {
   "cell_type": "code",
   "execution_count": null,
   "metadata": {
    "collapsed": true
   },
   "outputs": [],
   "source": [
    "trainLoader, testLoader = getDataLoaders(128)"
   ]
  },
  {
   "cell_type": "code",
   "execution_count": 19,
   "metadata": {},
   "outputs": [
    {
     "data": {
      "text/plain": [
       "<matplotlib.image.AxesImage at 0x12cc88400>"
      ]
     },
     "execution_count": 19,
     "metadata": {},
     "output_type": "execute_result"
    },
    {
     "data": {
      "image/png": "[encoded data removed]",
      "text/plain": [
       "<matplotlib.figure.Figure at 0x1236780b8>"
      ]
     },
     "metadata": {},
     "output_type": "display_data"
    }
   ],
   "source": [
    "plt.imshow(trainLoader.dataset[1][0].view(28, 28))"
   ]
  },
  {
   "cell_type": "code",
   "execution_count": 14,
   "metadata": {},
   "outputs": [
    {
     "name": "stdout",
     "output_type": "stream",
     "text": [
      "tensor(0)\n"
     ]
    }
   ],
   "source": [
    "print(trainLoader.dataset[1][1])"
   ]
  },
  {
   "cell_type": "markdown",
   "metadata": {},
   "source": [
    "Defining model and optimizer"
   ]
  },
  {
   "cell_type": "code",
   "execution_count": 64,
   "metadata": {
    "collapsed": true
   },
   "outputs": [],
   "source": [
    "model = VAE().to(device)\n",
    "optimizer = torch.optim.Adam(model.parameters())"
   ]
  },
  {
   "cell_type": "markdown",
   "metadata": {},
   "source": [
    "Training"
   ]
  },
  {
   "cell_type": "code",
   "execution_count": 65,
   "metadata": {},
   "outputs": [
    {
     "name": "stdout",
     "output_type": "stream",
     "text": [
      "Epoch 0\t Training Loss 175.25303177083333\n",
      "Epoch 0\t Test Loss 153.68068559570312\n",
      "Epoch 1\t Training Loss 148.9735180501302\n",
      "Epoch 1\t Test Loss 145.89324228515625\n"
     ]
    }
   ],
   "source": [
    "for epoch in range(20):\n",
    "    train(model, trainLoader, optimizer, epoch)\n",
    "    test(model, testLoader, epoch)"
   ]
  },
  {
   "cell_type": "markdown",
   "metadata": {},
   "source": [
    "Drawing $n$ samples $z$ from the latent space and map them to data space to get $x$"
   ]
  },
  {
   "cell_type": "code",
   "execution_count": 21,
   "metadata": {
    "collapsed": true
   },
   "outputs": [],
   "source": [
    "n = 10\n",
    "with torch.no_grad():\n",
    "    z = torch.randn(n, 20).to(device)\n",
    "    x = torch.exp(model.decoder(z)).cpu()\n",
    "\n",
    "x = x.view(n, 28, 28).numpy()"
   ]
  },
  {
   "cell_type": "code",
   "execution_count": 24,
   "metadata": {},
   "outputs": [
    {
     "data": {
      "text/plain": [
       "<matplotlib.image.AxesImage at 0x123fdbf28>"
      ]
     },
     "execution_count": 24,
     "metadata": {},
     "output_type": "execute_result"
    },
    {
     "data": {
      "image/png": "[encoded data removed]",
      "text/plain": [
       "<matplotlib.figure.Figure at 0x12cddbc18>"
      ]
     },
     "metadata": {},
     "output_type": "display_data"
    }
   ],
   "source": [
    "plt.imshow(x[9])"
   ]
  },
  {
   "cell_type": "code",
   "execution_count": null,
   "metadata": {
    "collapsed": true
   },
   "outputs": [],
   "source": []
  }
 ],
 "metadata": {
  "kernelspec": {
   "display_name": "Python 3",
   "language": "python",
   "name": "python3"
  },
  "language_info": {
   "codemirror_mode": {
    "name": "ipython",
    "version": 3
   },
   "file_extension": ".py",
   "mimetype": "text/x-python",
   "name": "python",
   "nbconvert_exporter": "python",
   "pygments_lexer": "ipython3",
   "version": "3.6.1"
  }
 },
 "nbformat": 4,
 "nbformat_minor": 2
}
